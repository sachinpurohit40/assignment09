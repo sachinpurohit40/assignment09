{
 "cells": [
  {
   "cell_type": "markdown",
   "id": "7d89eea1",
   "metadata": {},
   "source": [
    "# ASSIGNMENT 09 (11 JUNE)"
   ]
  },
  {
   "cell_type": "markdown",
   "id": "cbab1156",
   "metadata": {},
   "source": [
    "QUE 1 = What is a lambda function in Python, and how does it differ from a regular function?\n",
    "\n",
    "ANS 1 = In Python, a lambda function, also known as an anonymous function or a lambda expression, is a small, unnamed, and inline function defined using the lambda keyword. Lambda functions are typically used for simple operations where you don't want to define a full-fledged function using the def keyword. They are a way to create functions on the fly for short, one-off tasks. Lambda functions have the following syntax\n",
    "\n",
    "\n",
    "lambda arguments: expression\n",
    "\n",
    "Here's a simple example of a lambda function that adds two numbers:\n"
   ]
  },
  {
   "cell_type": "code",
   "execution_count": 3,
   "id": "1c62f45e",
   "metadata": {},
   "outputs": [
    {
     "data": {
      "text/plain": [
       "7"
      ]
     },
     "execution_count": 3,
     "metadata": {},
     "output_type": "execute_result"
    }
   ],
   "source": [
    "add = lambda x, y: x + y\n",
    "result = add(3, 4)  # result will be 7\n",
    "result"
   ]
  },
  {
   "cell_type": "markdown",
   "id": "38856e5c",
   "metadata": {},
   "source": [
    "Here's how lambda functions differ from regular (or named) functions:\n",
    "\n",
    "Syntax: Lambda functions have a more concise syntax compared to regular functions defined with def. They consist of a single line of code and are often used for short, simple operations.\n",
    "\n",
    "Namelessness: Lambda functions are anonymous, meaning they don't have a name associated with them. They are typically used where you need a small function for a short period and don't want to assign it a name.\n",
    "\n",
    "Scope: Lambda functions are typically used in limited scopes and are not meant for complex logic. They are often used for operations like sorting, filtering, and mapping elements in data structures.\n",
    "\n",
    "Return Value: Lambda functions implicitly return the result of the expression. In contrast, regular functions defined with def require an explicit return statement to return a value.\n",
    "\n",
    "Here's an example illustrating the difference between a lambda function and a regular function:"
   ]
  },
  {
   "cell_type": "code",
   "execution_count": 4,
   "id": "c81b947f",
   "metadata": {},
   "outputs": [
    {
     "name": "stdout",
     "output_type": "stream",
     "text": [
      "25\n",
      "25\n"
     ]
    }
   ],
   "source": [
    "def square(x):\n",
    "    return x ** 2\n",
    "\n",
    "square_lambda = lambda x: x ** 2\n",
    "\n",
    "print(square(5))           \n",
    "print(square_lambda(5))    \n"
   ]
  },
  {
   "cell_type": "markdown",
   "id": "3d2c48bb",
   "metadata": {},
   "source": [
    "que2 = Can a lambda function in Python have multiple arguments? If yes, how can you define and use\n",
    "them?\n",
    "\n",
    "ans 2 = Yes, a lambda function in Python can have multiple arguments. Lambda functions are also known as anonymous functions or lambda expressions, and they can take any number of arguments, but they are typically used for simple, small functions. Here's how you can define and use a lambda function with multiple arguments:"
   ]
  },
  {
   "cell_type": "code",
   "execution_count": 5,
   "id": "9713b9c1",
   "metadata": {},
   "outputs": [
    {
     "name": "stdout",
     "output_type": "stream",
     "text": [
      "8\n",
      "True\n",
      "False\n",
      "Hello World\n"
     ]
    }
   ],
   "source": [
    "# Syntax for a lambda function with multiple arguments:\n",
    "# lambda argument1, argument2, ... : expression\n",
    "\n",
    "# Example 1: A lambda function that adds two numbers\n",
    "add = lambda x, y: x + y\n",
    "result = add(3, 5)\n",
    "print(result)  # Output: 8\n",
    "\n",
    "# Example 2: A lambda function that checks if a number is even\n",
    "is_even = lambda num: num % 2 == 0\n",
    "print(is_even(4))  # Output: True\n",
    "print(is_even(7))  # Output: False\n",
    "\n",
    "# Example 3: A lambda function that concatenates two strings with a space\n",
    "concatenate_strings = lambda str1, str2: str1 + \" \" + str2\n",
    "result = concatenate_strings(\"Hello\", \"World\")\n",
    "print(result)  # Output: \"Hello World\"\n"
   ]
  },
  {
   "cell_type": "markdown",
   "id": "304fe0c6",
   "metadata": {},
   "source": [
    "que 3 = How are lambda functions typically used in Python? Provide an example use case?\n",
    "\n",
    "ans 3 = Lambda functions in Python are typically used for creating small, anonymous functions without the need to define them using the def keyword. They are often used in situations where you need a simple function for a short period of time and don't want to create a full-fledged named function.\n",
    "\n",
    "Lambda functions are particularly useful when you need to pass a function as an argument to another function (e.g., as a callback function), or when you want to create simple, one-line functions to perform quick operations. Here's a basic syntax of a lambda function:\n",
    "\n",
    "\n",
    "lambda arguments: expression\n",
    "\n",
    "Here's an example use case to illustrate how lambda functions are typically used in Python:\n",
    "\n",
    "Sorting a List of Dictionaries:\n",
    "\n",
    "Suppose you have a list of dictionaries representing people with their names and ages, and you want to sort this list based on their ages. You can use the sorted function and provide a lambda function as the key argument to specify the sorting criterion:"
   ]
  },
  {
   "cell_type": "code",
   "execution_count": 7,
   "id": "002a34ab",
   "metadata": {},
   "outputs": [
    {
     "name": "stdout",
     "output_type": "stream",
     "text": [
      "Sachin - 25 years old\n",
      "Anurag - 28 years old\n",
      "Tarun - 30 years old\n",
      "Shivam - 35 years old\n"
     ]
    }
   ],
   "source": [
    "people = [\n",
    "    {\"name\": \"Tarun\", \"age\": 30},\n",
    "    {\"name\": \"Sachin\", \"age\": 25},\n",
    "    {\"name\": \"Shivam\", \"age\": 35},\n",
    "    {\"name\": \"Anurag\", \"age\": 28}\n",
    "]\n",
    "\n",
    "# Sort the list of dictionaries by age using a lambda function\n",
    "sorted_people = sorted(people, key=lambda x: x[\"age\"])\n",
    "\n",
    "# Print the sorted list\n",
    "for person in sorted_people:\n",
    "    print(f\"{person['name']} - {person['age']} years old\")\n"
   ]
  },
  {
   "cell_type": "markdown",
   "id": "66afef57",
   "metadata": {},
   "source": [
    "que 4 =  What are the advantages and limitations of lambda functions compared to regular functions in\n",
    "Python?\n",
    "\n",
    "ans 4 =  Lambda functions in Python, also known as anonymous functions or lambda expressions, have their own set of advantages and limitations compared to regular functions (defined using the def keyword). Here are some of the key points to consider when using lambda functions:\n",
    "\n",
    "Advantages of Lambda Functions:\n",
    "\n",
    "Conciseness: Lambda functions are very concise and can often be defined in a single line of code. This makes them handy for simple, one-off operations.\n",
    "\n",
    "Readability: Lambda functions can make the code more readable when used appropriately, especially for small, single-purpose functions. They can help avoid cluttering the code with unnecessary function definitions.\n",
    "\n",
    "No need for a separate name: Lambda functions do not require a separate name like regular functions. This can be advantageous when you need a small function for a short-lived purpose, and you don't want to clutter your namespace with function names.\n",
    "\n",
    "Functional Programming: Lambda functions are commonly used in functional programming paradigms. They can be used as arguments to higher-order functions like map, filter, and reduce.\n",
    "\n",
    "Limitations of Lambda Functions:\n",
    "\n",
    "Limited Complexity: Lambda functions are limited in terms of complexity. They are meant for simple operations and cannot contain multiple statements, assignments, or complex logic. If you need to write a more complex function, you should use a regular function.\n",
    "\n",
    "Limited Documentation: Lambda functions do not support docstrings, making it harder to provide documentation for the function's purpose and usage. In contrast, regular functions can include docstrings for better documentation.\n",
    "\n",
    "Lack of Reusability: Lambda functions are not reusable. If you need to use the same function in multiple places within your code, it's more practical to define a regular function that can be called multiple times.\n",
    "\n",
    "Limited Debugging: Debugging lambda functions can be more challenging compared to regular functions. Regular functions have named identifiers, making it easier to pinpoint issues during debugging. Lambda functions, being anonymous, can make it harder to identify problems.\n",
    "\n",
    "Scope of Variables: Lambda functions have access to variables in their enclosing scope (lexical scoping), but this can sometimes lead to unexpected behavior, especially if the variables change outside the lambda's scope."
   ]
  },
  {
   "cell_type": "markdown",
   "id": "cfbf56e6",
   "metadata": {},
   "source": [
    "que 5  = Are lambda functions in Python able to access variables defined outside of their own scope?\n",
    "Explain with an example.\n",
    "\n",
    "ans 5 =  Yes, lambda functions in Python can access variables defined outside of their own scope. They can access variables from the surrounding scope in which they are defined, just like regular functions. This is known as lexical or closure behavior.\n",
    "\n",
    "Here's an example to illustrate this:"
   ]
  },
  {
   "cell_type": "code",
   "execution_count": 9,
   "id": "856cb49b",
   "metadata": {},
   "outputs": [
    {
     "name": "stdout",
     "output_type": "stream",
     "text": [
      "15\n"
     ]
    }
   ],
   "source": [
    "def outer_function(x):\n",
    "    # Define a lambda function inside the outer_function\n",
    "    inner_lambda = lambda y: x + y\n",
    "    return inner_lambda\n",
    "\n",
    "# Create an instance of the inner lambda function\n",
    "closure = outer_function(10)\n",
    "\n",
    "# Call the closure with an argument\n",
    "result = closure(5)\n",
    "\n",
    "print(result)  # Output: 15\n"
   ]
  },
  {
   "cell_type": "markdown",
   "id": "a1d93efb",
   "metadata": {},
   "source": [
    "In this example, we have an outer_function that takes an argument x and defines a lambda function inner_lambda inside it. This lambda function takes another argument y and adds it to x. When we call outer_function(10), it returns the inner_lambda with x set to 10. Then, when we call closure(5), it adds 5 to the x from the enclosing scope, which is 10, resulting in 15\n",
    ".\n",
    "Lambda functions capture the variables from their surrounding scope when they are defined, creating a closure. This allows them to access and use those variables even after the outer function has finished executing."
   ]
  },
  {
   "cell_type": "markdown",
   "id": "976c5220",
   "metadata": {},
   "source": [
    "que 6 = Write a lambda function to calculate the square of a given number.\n",
    "\n",
    "ans 6 = eg\n"
   ]
  },
  {
   "cell_type": "code",
   "execution_count": 12,
   "id": "e5e99966",
   "metadata": {},
   "outputs": [],
   "source": [
    "square = lambda x: x ** 2\n"
   ]
  },
  {
   "cell_type": "markdown",
   "id": "324d1440",
   "metadata": {},
   "source": [
    "Here, lambda x: x ** 2 defines a lambda function that takes one argument x and returns its square x ** 2.\n",
    "You can use this square lambda function to calculate the square of a number by calling it with an argument:"
   ]
  },
  {
   "cell_type": "code",
   "execution_count": 14,
   "id": "810ab566",
   "metadata": {},
   "outputs": [
    {
     "name": "stdout",
     "output_type": "stream",
     "text": [
      "25\n"
     ]
    }
   ],
   "source": [
    "result = square(5)  # Calculates the square of 5\n",
    "print(result)  # Output: 25\n"
   ]
  },
  {
   "cell_type": "markdown",
   "id": "2d27523f",
   "metadata": {},
   "source": [
    "que 7 = Create a lambda function to find the maximum value in a list of integers?\n",
    "\n",
    "ans 7 = Certainly! You can create a lambda function to find the maximum value in a list of integers using the max() function with a lambda as the key argument.\n",
    "Here's an example:"
   ]
  },
  {
   "cell_type": "code",
   "execution_count": 17,
   "id": "dcf9ee0c",
   "metadata": {},
   "outputs": [
    {
     "name": "stdout",
     "output_type": "stream",
     "text": [
      "11\n"
     ]
    }
   ],
   "source": [
    "find_max = lambda lst: max(lst)\n",
    "# You can then use this lambda function find_max to find the maximum value in a list of integers like this:\n",
    "my_list = [4, 9, 2, 7, 11, 5]\n",
    "maximum_value = find_max(my_list)\n",
    "print(maximum_value)\n"
   ]
  },
  {
   "cell_type": "markdown",
   "id": "4e72c55a",
   "metadata": {},
   "source": [
    "The find_max lambda function takes a list lst as its argument and returns the maximum value in the list using the max() function.\n"
   ]
  },
  {
   "cell_type": "markdown",
   "id": "5e633d75",
   "metadata": {},
   "source": [
    "que 8 = Implement a lambda function to filter out all the even numbers from a list of integers.\n",
    "\n",
    "ans 8 = You can use a lambda function with the filter() function in Python to filter out all the even numbers from a list of integers. Here's how you can do it:"
   ]
  },
  {
   "cell_type": "code",
   "execution_count": 19,
   "id": "4ea4d261",
   "metadata": {},
   "outputs": [
    {
     "name": "stdout",
     "output_type": "stream",
     "text": [
      "[2, 4, 6, 8, 10]\n"
     ]
    }
   ],
   "source": [
    "\n",
    "numbers = [1, 2, 3, 4, 5, 6, 7, 8, 9, 10]\n",
    "\n",
    "\n",
    "filtered_numbers = list(filter(lambda x: x % 2 == 0, numbers))\n",
    "\n",
    "print(filtered_numbers)\n"
   ]
  },
  {
   "cell_type": "markdown",
   "id": "1f81beb1",
   "metadata": {},
   "source": [
    "que  9  = Write a lambda function to sort a list of strings in ascending order based on the length of each\n",
    "string.\n",
    "\n",
    "ans 9 = You can use a lambda function with the sorted() function in Python to sort a list of strings in ascending order based on the length of each string. Here's how you can do it:"
   ]
  },
  {
   "cell_type": "code",
   "execution_count": 20,
   "id": "b0adf4a0",
   "metadata": {},
   "outputs": [
    {
     "name": "stdout",
     "output_type": "stream",
     "text": [
      "['fig', 'date', 'apple', 'banana', 'cherry', 'elderberry']\n"
     ]
    }
   ],
   "source": [
    "# Define a list of strings\n",
    "strings = [\"apple\", \"banana\", \"cherry\", \"date\", \"elderberry\", \"fig\"]\n",
    "\n",
    "# Use sorted() with a lambda function to sort the list based on string length\n",
    "sorted_strings = sorted(strings, key=lambda x: len(x))\n",
    "\n",
    "# Print the sorted list\n",
    "print(sorted_strings)\n"
   ]
  },
  {
   "cell_type": "markdown",
   "id": "a06358a1",
   "metadata": {},
   "source": [
    "que 10 =   Create a lambda function that takes two lists as input and returns a new list containing the\n",
    "common elements between the two lists.\n",
    "\n",
    "ans 10 = You can create a lambda function to find the common elements between two lists like this:\n"
   ]
  },
  {
   "cell_type": "code",
   "execution_count": 22,
   "id": "13ec2323",
   "metadata": {},
   "outputs": [
    {
     "name": "stdout",
     "output_type": "stream",
     "text": [
      "[3, 4, 5]\n"
     ]
    }
   ],
   "source": [
    "common_elements = lambda list1, list2: list(set(list1) & set(list2))\n",
    "# Here's how you can use this lambda function\n",
    "list1 = [1, 2, 3, 4, 5]\n",
    "list2 = [3, 4, 5, 6, 7]\n",
    "\n",
    "result = common_elements(list1, list2)\n",
    "print(result)  # Output will be [3, 4, 5]\n"
   ]
  },
  {
   "cell_type": "markdown",
   "id": "a6623524",
   "metadata": {},
   "source": [
    "que 11 =  Write a recursive function to calculate the factorial of a given positive integer.\n",
    "\n",
    "ans 11 = Certainly! Here's a Python recursive function to calculate the factorial of a given positive integer:"
   ]
  },
  {
   "cell_type": "code",
   "execution_count": 23,
   "id": "a5bd896d",
   "metadata": {},
   "outputs": [
    {
     "name": "stdout",
     "output_type": "stream",
     "text": [
      "120\n"
     ]
    }
   ],
   "source": [
    "def factorial(n):\n",
    "    if n == 0:\n",
    "        return 1\n",
    "    else:\n",
    "        return n * factorial(n - 1)\n",
    "\n",
    "#You can use this function by passing a positive integer as an argument. For example\n",
    "result = factorial(5)\n",
    "print(result)  # This will print 120, which is 5!\n"
   ]
  },
  {
   "cell_type": "markdown",
   "id": "428eed60",
   "metadata": {},
   "source": [
    "The function works by breaking down the factorial calculation into smaller subproblems. \n",
    "It calculates the factorial of n by recursively calculating the factorial of n-1, and so on, until it reaches the base case where n is 0, at which point it returns 1 (since 0! is defined as 1)."
   ]
  },
  {
   "cell_type": "markdown",
   "id": "7ed84a7f",
   "metadata": {},
   "source": [
    "que 12 = Implement a recursive function to compute the nth Fibonacci number.\n",
    "\n",
    "ans 12 = Here's a Python function to compute the nth Fibonacci number using recursion:"
   ]
  },
  {
   "cell_type": "code",
   "execution_count": 24,
   "id": "ef8fe207",
   "metadata": {},
   "outputs": [
    {
     "name": "stdout",
     "output_type": "stream",
     "text": [
      "The 10th Fibonacci number is 55\n"
     ]
    }
   ],
   "source": [
    "def fibonacci(n):\n",
    "    # Base case: Return 0 for the 0th Fibonacci number and 1 for the 1st Fibonacci number.\n",
    "    if n == 0:\n",
    "        return 0\n",
    "    elif n == 1:\n",
    "        return 1\n",
    "    else:\n",
    "        # Recursive case: Calculate the nth Fibonacci number by adding the (n-1)th and (n-2)th Fibonacci numbers.\n",
    "        return fibonacci(n - 1) + fibonacci(n - 2)\n",
    "\n",
    "# Example usage:\n",
    "n = 10  # You can change n to compute a different Fibonacci number.\n",
    "result = fibonacci(n)\n",
    "print(f\"The {n}th Fibonacci number is {result}\")\n"
   ]
  },
  {
   "cell_type": "markdown",
   "id": "10eee08e",
   "metadata": {},
   "source": [
    "que 13 = Create a recursive function to find the sum of all the elements in a given list.\n",
    "\n",
    "ans 13 = You can create a recursive function in Python to find the sum of all elements in a given list by breaking down the problem into smaller subproblems. \n",
    "Here's a Python function to do this:"
   ]
  },
  {
   "cell_type": "code",
   "execution_count": 25,
   "id": "60c5c53a",
   "metadata": {},
   "outputs": [
    {
     "name": "stdout",
     "output_type": "stream",
     "text": [
      "Sum of elements in the list: 15\n"
     ]
    }
   ],
   "source": [
    "def recursive_sum(lst):\n",
    "    # Base case: If the list is empty, the sum is 0.\n",
    "    if len(lst) == 0:\n",
    "        return 0\n",
    "    else:\n",
    "        # Recursive case: Sum the first element with the sum of the rest of the list.\n",
    "        return lst[0] + recursive_sum(lst[1:])\n",
    "\n",
    "# Example usage:\n",
    "my_list = [1, 2, 3, 4, 5]\n",
    "result = recursive_sum(my_list)\n",
    "print(\"Sum of elements in the list:\", result)\n"
   ]
  },
  {
   "cell_type": "markdown",
   "id": "a5c407ba",
   "metadata": {},
   "source": [
    "que 14 = Write a recursive function to determine whether a given string is a palindrome.\n",
    "\n",
    "ans 14 = Sure, here's a Python recursive function to determine whether a given string is a palindrome"
   ]
  },
  {
   "cell_type": "code",
   "execution_count": 26,
   "id": "776c9031",
   "metadata": {},
   "outputs": [
    {
     "name": "stdout",
     "output_type": "stream",
     "text": [
      "True\n",
      "False\n",
      "True\n"
     ]
    }
   ],
   "source": [
    "def is_palindrome(s):\n",
    "    # Base case: if the string has 0 or 1 characters, it's a palindrome.\n",
    "    if len(s) <= 1:\n",
    "        return True\n",
    "    \n",
    "    # Check if the first and last characters are the same.\n",
    "    if s[0] == s[-1]:\n",
    "        # Recursively check the substring without the first and last characters.\n",
    "        return is_palindrome(s[1:-1])\n",
    "    \n",
    "    # If the first and last characters are not the same, it's not a palindrome.\n",
    "    return False\n",
    "#You can use this function by passing a string as an argument. It will return True if the string is a palindrome and False otherwise. For example:\n",
    "\n",
    "print(is_palindrome(\"racecar\"))  \n",
    "print(is_palindrome(\"hello\"))     \n",
    "print(is_palindrome(\"level\"))    \n"
   ]
  },
  {
   "cell_type": "markdown",
   "id": "0ded7f64",
   "metadata": {},
   "source": [
    "que 15 = Implement a recursive function to find the greatest common divisor (GCD) of two positive integers.\n",
    "\n",
    "ans 15 = Certainly! You can implement a recursive function to find the greatest common divisor (GCD) of two positive integers using the Euclidean algorithm. Here's a Python function to do that:"
   ]
  },
  {
   "cell_type": "code",
   "execution_count": 30,
   "id": "7a609249",
   "metadata": {},
   "outputs": [],
   "source": [
    "def gcd(a, b):\n",
    "    # Base case: GCD(a, 0) = a, where 'a' is a positive integer.\n",
    "    if b == 0:\n",
    "        return a\n",
    "    \n",
    "    # Recursive case: GCD(a, b) is equivalent to GCD(b, a % b).\n",
    "    return gcd(b, a % b)\n",
    "# You can use this function by passing two positive integers 'a' and 'b' as arguments. It will return the GCD of these two integers. For example:"
   ]
  },
  {
   "cell_type": "code",
   "execution_count": 31,
   "id": "2927fd2b",
   "metadata": {},
   "outputs": [
    {
     "name": "stdout",
     "output_type": "stream",
     "text": [
      "6\n",
      "12\n"
     ]
    }
   ],
   "source": [
    "print(gcd(48, 18))  \n",
    "print(gcd(60, 48))  "
   ]
  },
  {
   "cell_type": "code",
   "execution_count": null,
   "id": "f23f7525",
   "metadata": {},
   "outputs": [],
   "source": []
  }
 ],
 "metadata": {
  "kernelspec": {
   "display_name": "Python 3 (ipykernel)",
   "language": "python",
   "name": "python3"
  },
  "language_info": {
   "codemirror_mode": {
    "name": "ipython",
    "version": 3
   },
   "file_extension": ".py",
   "mimetype": "text/x-python",
   "name": "python",
   "nbconvert_exporter": "python",
   "pygments_lexer": "ipython3",
   "version": "3.11.4"
  }
 },
 "nbformat": 4,
 "nbformat_minor": 5
}
